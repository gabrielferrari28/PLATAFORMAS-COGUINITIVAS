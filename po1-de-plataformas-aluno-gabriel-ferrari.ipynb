{
  "nbformat": 4,
  "nbformat_minor": 0,
  "metadata": {
    "colab": {
      "provenance": [],
      "authorship_tag": "ABX9TyM3GC6uEH35DN/QZWJGMVGJ"
    },
    "kernelspec": {
      "name": "python3",
      "display_name": "Python 3"
    },
    "language_info": {
      "name": "python"
    }
  },
  "cells": [
    {
      "cell_type": "code",
      "source": [
        "import requests\n",
        "\n",
        "KEY = '92dca7ab64e196584410c976ce3d82fd'\n",
        "\n",
        "cidade_estado = \"goiatuba\"\n",
        "\n",
        "url = f\"http://api.openweathermap.org/data/2.5/weather?q={cidade_estado}&lang=pt&appid={KEY}\"\n",
        "\n",
        "response = requests.get(url)\n",
        "\n",
        "if response.status_code == 200:\n",
        "    data = response.json()\n",
        "    descricao_clima = data[\"weather\"][0][\"description\"]\n",
        "    temperatura_kelvin = data[\"main\"][\"temp\"]\n",
        "    temperatura_celsius = temperatura_kelvin - 273.15\n",
        "    print(f\"A temperatura em {cidade_estado.title()} é de {temperatura_celsius:.1f} graus Celsius e o tempo está {descricao_clima}.\")\n",
        "else:\n",
        "    print(\"Não foi possível obter os dados do clima. Tente novamente mais tarde.\")\n",
        "\n"
      ],
      "metadata": {
        "colab": {
          "base_uri": "https://localhost:8080/"
        },
        "id": "QUSskVDl7Njv",
        "outputId": "e5433c1b-b8f8-48ea-91ae-ec3198d3c0fc"
      },
      "execution_count": 22,
      "outputs": [
        {
          "output_type": "stream",
          "name": "stdout",
          "text": [
            "A temperatura em Goiatuba é de 24.3 graus Celsius e o tempo está chuva fraca.\n"
          ]
        }
      ]
    }
  ]
}